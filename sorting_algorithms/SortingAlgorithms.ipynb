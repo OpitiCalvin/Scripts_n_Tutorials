{
 "cells": [
  {
   "cell_type": "markdown",
   "metadata": {},
   "source": [
    "# BUBBLE SORT\n",
    "## Introduction\n",
    "\n",
    "Bubble sort is an introductory sorting algorithm that iterates through a list and compares pairings of adjacent elements.\n",
    "\n",
    "According to the sorting criteria, the algorithm swaps elements to shift elements towards the beginning or end of the list.\n",
    "\n",
    "By default, a list is sorted if for any element <code>e</code> and position <code>1</code> through <code>N</code>:\n",
    "\n",
    "<code>e1 <= e2 <= e3 ... eN</code>, where <code>N</code> is the number of elements in the list.\n",
    "\n",
    "For example, bubble sort transforms a list:\n",
    "\n",
    "<code>[5,2,9,1,5]</code>\n",
    "\n",
    "to an ascending order, from lowert to highest:\n",
    "\n",
    "<code>[1,2,5,5,9]</code>"
   ]
  },
  {
   "cell_type": "markdown",
   "metadata": {},
   "source": [
    "We implement the algorithm with two loops.\n",
    "\n",
    "The first loop iterates as <strong>long as the list is unsorted</strong> and we assume it's unsorted to start.\n",
    "\n",
    "Within this loop, another iteration moves through the list. For each pairing, the algorithm asks:\n",
    "\n",
    "In comparison, is the first element larger than the second element?\n",
    "\n",
    "If it is, we swap the position of the elements. The larger element is now at a greater index than the smaller element.\n",
    "\n",
    "When a swap is made, we know the list is still unsorted. The outer loop will run again when the inner loop concludes.\n",
    "\n",
    "The process repeats until the largest element makes its way to the last index of the list. The outer loop runs until no swaps are made within the inner loop.\n",
    "\n",
    "<img src=\"https://s3.amazonaws.com/codecademy-content/courses/sorting/BubbleSort.gif\" height=400, width=400>"
   ]
  },
  {
   "cell_type": "markdown",
   "metadata": {},
   "source": [
    "As mentioned, the bubble sort algorithm swaps elements if the element on the left is larger than the one on the right.\n",
    "\n",
    "How does this algorithm ~swap~ these elements in practice?\n",
    "\n",
    "Let's say we have the two values stored at the following indices index_1 and index_2. How would we swap these two elements within the list?\n",
    "\n",
    "It is tempting to write code like:\n",
    "\n",
    "<code>\n",
    "list[index_1] = list[index_2]\n",
    "list[index_2] = list[index_1]\n",
    "</code>\n",
    "\n",
    "However, if we do this, we lose the original value at index_1. The element gets replaced by the value at index_2. Both indices end up with the value at index_2.\n",
    "\n",
    "Programming languages have different ways of avoiding this issue. In some languages, we create a temporary variable which holds one element during the swap:\n",
    "\n",
    "<code>\n",
    "temp = list[index_1]\n",
    "list[index_1] = list[index_2]\n",
    "list[index_2] = temp\n",
    "</code>\n",
    "\n",
    "The GIF illustrates this code snippet.\n",
    "\n",
    "<img src=\"https://s3.amazonaws.com/codecademy-content/courses/sorting/swap.gif\" height=400, width=400>\n",
    "\n",
    "Other languages provide multiple assignment which removes the need for a temporary variable.\n",
    "\n",
    "<code>\n",
    "list[index_1], list[index_2] = list[index_2], list[index_1]\n",
    "</code>\n",
    "    "
   ]
  },
  {
   "cell_type": "markdown",
   "metadata": {},
   "source": [
    "## Algorithm Analysis\n",
    "\n",
    "Given a moderately unsorted data-set, bubble sort requires multiple passes through the input before producing a sorted list. Each pass through the list will place the next largest value in its proper place.\n",
    "\n",
    "We are performing <code>n-1</code> comparisons for our inner loop. Then, we must go through the list <code>n</code> times in order to ensure that each item in our list has been placed in its proper order.\n",
    "\n",
    "The <code>n</code> signifies the number of elements in the list. In a worst case scenario, the inner loop does <code>n-1</code> comparisons for each <code>n</code> element in the list.\n",
    "\n",
    "Therefore we calculate the algorithm's efficiency as:\n",
    "<pre>\n",
    "<code>\n",
    "O(n(n−1))=O(n(n))=O(n2)\n",
    "</code>\n",
    "</pre>\n",
    "\n",
    "The diagram analyzes the pseudocode implementation of bubble sort to show how we draw this conclusion.\n",
    "\n",
    "When calculating the run-time efficiency of an algorithm, we drop the constant (<code>-1</code>), which simplifies our inner loop comparisons to <code>n</code>.\n",
    "\n",
    "This is how we arrive at the algorithm's runtime: <code>O(n^2)</code>.\n",
    "\n",
    "<img src=\"https://s3.amazonaws.com/codecademy-content/courses/sorting/Sorting+Course+Efficiency+Diagram+1.svg\" height=500, width=500>"
   ]
  },
  {
   "cell_type": "markdown",
   "metadata": {},
   "source": [
    "## Bubble Sort Review\n",
    "\n",
    "Bubble sort is an algorithm to sort a list through repeated swaps of adjacent elements. It has a runtime of <code>O(n^2)</code>.\n",
    "\n",
    "For nearly sorted lists, bubble sort performs relatively few operations since it only performs a swap when elements are out of order.\n",
    "\n",
    "Bubble sort is a good introductory algorithm which opens the door to learning more complex algorithms. It answers the question, \"How can we algorithmically sort a list?\" and encourages us to ask, \"How can we improve this sorting algorithm?\"\n"
   ]
  },
  {
   "cell_type": "markdown",
   "metadata": {},
   "source": [
    "## Bubble Sort: Swap\n",
    "\n",
    "The Bubble Sort algorithm works by comparing a pair of neighbor elements and shifting the larger of the two to the right. Bubble Sort completes this by swapping the two elements' positions if the first element being compared is larger than the second element being compared.\n",
    "\n",
    "Below is a quick pseudocode example of what we will create:\n",
    "<pre>\n",
    "<code>\n",
    "for each pair(elem1, elem2):\n",
    "  if elem1 > elem2:\n",
    "    swap(elem1, elem2)\n",
    "  else:\n",
    "    # analyze next set of pairs\n",
    "</code>\n",
    "</pre>\n",
    "This swap() sub-routine is an essential part of the algorithm. Bubble sort swaps elements repeatedly until the largest element in the list is placed at the greatest index. This looping continues until the list is sorted.\n",
    "\n",
    "This GIF illustrates how swap() method works.\n",
    "<img src=\"https://s3.amazonaws.com/codecademy-content/courses/sorting/swap.gif\" height=400, width=400>"
   ]
  },
  {
   "cell_type": "code",
   "execution_count": 5,
   "metadata": {},
   "outputs": [
    {
     "name": "stdout",
     "output_type": "stream",
     "text": [
      "[5, 2, 9, 6, 5, 1]\n"
     ]
    }
   ],
   "source": [
    "nums = [5,2,9,1,5,6]\n",
    "\n",
    "def swap(arr,index_1,index_2):\n",
    "    temp =  arr[index_1]\n",
    "    arr[index_1] = arr[index_2]\n",
    "    arr[index_2] = temp\n",
    "    \n",
    "swap(nums,3,5)\n",
    "print(nums)"
   ]
  },
  {
   "cell_type": "markdown",
   "metadata": {},
   "source": [
    "## Bubble Sort: Compare\n",
    "\n",
    "Now that we know how to swap items in an array, we need to set up the loops which check whether a swap is necessary.\n",
    "\n",
    "Recall that Bubble Sort compares neighboring items and if they are out of order, they are swapped.\n",
    "\n",
    "What does it mean to be \"out of order\"? Since bubble sort is a comparison sort, we'll use a comparison operator: <code><</code>.\n",
    "\n",
    "We'll have two loops:\n",
    "\n",
    "One loop will iterate through each element in the list.\n",
    "\n",
    "Within the first loop, we'll have another loop for each element in the list.\n",
    "\n",
    "Inside the second loop, we'll take the index of the loop and compare the element at that index with the element at the next index. If they're out of order, we'll make a swap!\n"
   ]
  },
  {
   "cell_type": "code",
   "execution_count": 7,
   "metadata": {},
   "outputs": [
    {
     "name": "stdout",
     "output_type": "stream",
     "text": [
      "Pre-Sort: [5, 2, 9, 1, 5, 6]\n",
      "Post-Sort: [1, 2, 5, 5, 6, 9]\n"
     ]
    }
   ],
   "source": [
    "nums = [5, 2, 9, 1, 5, 6]\n",
    "\n",
    "def swap(arr, index_1, index_2):\n",
    "  temp = arr[index_1]\n",
    "  arr[index_1] = arr[index_2]\n",
    "  arr[index_2] = temp\n",
    "  \n",
    "# define bubble_sort():\n",
    "def bubble_sort(arr):\n",
    "    for el in arr:\n",
    "        for index in range(len(arr)-1):\n",
    "            if arr[index] > arr[index+1]:\n",
    "                swap(arr,index,index+1)   \n",
    "\n",
    "##### test statements\n",
    "\n",
    "print(\"Pre-Sort: {0}\".format(nums))      \n",
    "bubble_sort(nums)\n",
    "print(\"Post-Sort: {0}\".format(nums))"
   ]
  },
  {
   "cell_type": "markdown",
   "metadata": {},
   "source": [
    "## Bubble Sort: Optimized\n",
    "\n",
    "As you were writing Bubble Sort, you may have realized that we were doing some unnecessary iterations.\n",
    "\n",
    "Consider the first pass through the outer loop. We're making <code>n-1</code> comparisons. \n",
    "\n",
    "<code>\n",
    "    nums = [5, 4, 3, 2, 1]\n",
    "# 5 element list: N is 5\n",
    "bubble_sort(nums)\n",
    "# 5 > 4\n",
    "# [4, 5, 3, 2, 1]\n",
    "# 5 > 3\n",
    "# [4, 3, 5, 2, 1]\n",
    "# 5 > 2\n",
    "# [4, 3, 2, 5, 1]\n",
    "# 5 > 1\n",
    "# [4, 3, 2, 1, 5]\n",
    "# four comparisons total\n",
    "</code>\n",
    "\n",
    "We know the last value in the list is in its correct position, so <strong>we never need to consider it again</strong>. The second time through the loop, we only need <code>n-2</code> comparisons.\n",
    "\n",
    "As we correctly place more values, fewer elements need to be compared. An optimized version doesn't make <code>n^2-n</code> comparisons, it does <code>(n-1) + (n-2) + ... + 2 + 1</code> comparisons, which can be simplified to <code>(n^2-n) / 2</code> comparisons.\n",
    "\n",
    "This is fewer than <code>n^2-n</code> comparisons but the algorithm still has a big O runtime of <code>O(N^2)</code>.\n",
    "\n",
    "As the input, <code>N</code>, grows larger, the division by two has less significance. Big O considers inputs as they reach infinity so the higher order term <code>N^2</code>completely dominates.\n",
    "\n",
    "We can't make Bubble Sort better than <code>O(N^2)</code>, but let's take a look at the optimized code and compare iterations between implementations!\n",
    "\n",
    "We're also taking advantage of parallel assignment in Python and abstracting away the <code>swap()</code> function!"
   ]
  },
  {
   "cell_type": "code",
   "execution_count": 8,
   "metadata": {},
   "outputs": [
    {
     "name": "stdout",
     "output_type": "stream",
     "text": [
      "PRE SORT: [9, 8, 7, 6, 5, 4, 3, 2, 1]\n",
      "PRE-OPTIMIZED ITERATION COUNT: 72\n",
      "POST-OPTIMIZED ITERATION COUNT: 36\n",
      "POST SORT: [1, 2, 3, 4, 5, 6, 7, 8, 9]\n"
     ]
    }
   ],
   "source": [
    "nums = [9, 8, 7, 6, 5, 4, 3, 2, 1]\n",
    "print(\"PRE SORT: {0}\".format(nums))\n",
    "\n",
    "def swap(arr, index_1, index_2):\n",
    "  temp = arr[index_1]\n",
    "  arr[index_1] = arr[index_2]\n",
    "  arr[index_2] = temp\n",
    "\n",
    "def bubble_sort_unoptimized(arr):\n",
    "  iteration_count = 0\n",
    "  for el in arr:\n",
    "    for index in range(len(arr) - 1):\n",
    "      iteration_count += 1\n",
    "      if arr[index] > arr[index + 1]:\n",
    "        swap(arr, index, index + 1)\n",
    "\n",
    "  print(\"PRE-OPTIMIZED ITERATION COUNT: {0}\".format(iteration_count))\n",
    "\n",
    "def bubble_sort(arr):\n",
    "  iteration_count = 0\n",
    "  for i in range(len(arr)):\n",
    "    # iterate through unplaced elements\n",
    "    for idx in range(len(arr) - i - 1):\n",
    "      iteration_count += 1\n",
    "      if arr[idx] > arr[idx + 1]:\n",
    "        # replacement for swap function\n",
    "        arr[idx], arr[idx + 1] = arr[idx + 1], arr[idx]\n",
    "        \n",
    "  print(\"POST-OPTIMIZED ITERATION COUNT: {0}\".format(iteration_count))\n",
    "\n",
    "bubble_sort_unoptimized(nums.copy())\n",
    "bubble_sort(nums)\n",
    "print(\"POST SORT: {0}\".format(nums))"
   ]
  },
  {
   "cell_type": "markdown",
   "metadata": {},
   "source": [
    "# MERGE SORT"
   ]
  },
  {
   "cell_type": "markdown",
   "metadata": {},
   "source": [
    "Merge sort is a sorting algorithm created by John von Neumann in 1945. Merge sort's \"killer app\" was the strategy that breaks the list-to-be-sorted into smaller parts, sometimes called a <stron>divide-and-conquer algorithm</strong>.\n",
    "\n",
    "In a divide-and-conquer algorithm, the data is continually broken down into smaller elements until sorting them becomes really simple.\n",
    "\n",
    "Merge sort was the first of many sorts that use this strategy, and is still in use today in many different applications.\n",
    "\n",
    "<img src=\"https://s3.amazonaws.com/codecademy-content/courses/merge-sort/merge_ex_3.svg\" height=600, width=600 style=\"background-color:#204056;\">\n",
    "\n",
    "<strong>Quiz: Why is it that separating a list into sublists makes sorting faster?</strong>\n"
   ]
  },
  {
   "cell_type": "markdown",
   "metadata": {},
   "source": [
    "## How To Merge Sort:\n",
    "\n",
    "Merge sorting takes two steps: splitting the data into \"runs\" or smaller components, and the re-combining those runs into sorted lists (the \"merge\").\n",
    "\n",
    "When splitting the data, we divide the input to our sort in half. We then recursively call the sort on each of those halves, which cuts the halves into quarters. This process continues until all of the lists contain only a single element. Then we begin merging.\n",
    "\n",
    "When merging two single-element lists, we check if the first element is smaller or larger than the other. Then we return the two-element list with the smaller element followed by the larger element.\n"
   ]
  },
  {
   "cell_type": "markdown",
   "metadata": {},
   "source": [
    "## Merging\n",
    "\n",
    "When merging larger pre-sorted lists we build the list similarly to how we did with single-element lists.\n",
    "\n",
    "Let's call the two lists <code>left</code> and <code>right</code>. Both <code>left</code> and <code>right</code> are already sorted. We want to combine them (to merge them) into a larger sorted list, let's call it <code>both</code>. To accomplish this we'll need to iterate through both with two indices, <code>left_index</code> and <code>right_index</code>.\n",
    "\n",
    "At first <code>left_index</code> and <code>right_index</code> both point to the start of their respective lists. <code>left_index</code> points to the smallest element of <code>left</code> (its first element) and <code>right_index</code> points to the smallest element of <code>right</code>.\n",
    "\n",
    "Compare the elements at <code>left_index</code> and <code>right_index</code>. The smaller of these two elements should be the first element of <code>both</code> because it's the smallest of both! It's the smallest of the two smallest values.\n",
    "\n",
    "Let's say that smallest value was in <code>left</code>. We continue by incrementing <code>left_index</code> to point to the next-smallest value in <code>left</code>. Then we compare the 2nd smallest value in <code>left</code> against the smallest value of <code>right</code>. Whichever is smaller of these two is now the 2nd smallest value of <code>both</code>.\n",
    "\n",
    "This process of \"look at the two next-smallest elements of each list and add the smaller one to our resulting list\" continues on for as long as both lists have elements to compare. Once one list is exhausted, say every element from <code>left</code> has been added to the result, then we know that all the elements of the other list, <code>right</code>, should go at the end of the resulting list (they're larger than every element we've added so far).\n"
   ]
  },
  {
   "cell_type": "markdown",
   "metadata": {},
   "source": [
    "## Merge Sort Performance\n",
    "\n",
    "Merge sort was unique for its time in that the best, worst, and average time complexity are all the same: <code>Θ(N*log(N))</code>. This means an almost-sorted list will take the same amount of time as a completely out-of-order list. This is acceptable because the worst-case scenario, where a sort could stand to take the most time, is as fast as a sorting algorithm can be.\n",
    "\n",
    "Some sorts attempt to improve upon the merge sort by first inspecting the input and looking for \"runs\" that are already pre-sorted. <a href=\"https://en.wikipedia.org/wiki/Timsort\" target=\"_blank\">Timsort</a> is one such algorithm that attempts to use pre-sorted data in a list to the sorting algorithm's advantage. If the data is already sorted, Timsort runs in <code>Θ(N)</code> time.\n",
    "\n",
    "Merge sort also requires space. Each separation requires a temporary array, and so a merge sort would require enough space to save the whole of the input a second time. This means the worst-case space complexity of merge sort is <code>Θ(N)</code>).\n",
    "\n",
    "<strong> QUIZ: Why does merge sort require so much space? Would it be possible to write an efficient sort that doesn't require any additional space? Can you think of any trade-offs that would need to be made? </strong>\n"
   ]
  },
  {
   "cell_type": "markdown",
   "metadata": {},
   "source": [
    "## Merge Sort: Python\n",
    "### Separation\n",
    "\n",
    "What is sorted by a sort? A sort takes in a list of some data. The data can be words that we want to sort in dictionary order, or people we want to sort by birth date, or really anything else that has an order. For the simplicity of this lesson, we're going to imagine the data as just numbers.\n",
    "\n",
    "The first step in a merge sort is to separate the data into smaller lists. Then we break those lists into even smaller lists. Then, when those lists are all single-element lists, something amazing happens! Well, kind of amazing. Well, you might have expected it, we do call it a \"merge sort\". We merge the lists.\n"
   ]
  },
  {
   "cell_type": "code",
   "execution_count": 10,
   "metadata": {},
   "outputs": [],
   "source": [
    "def merge_sort(items):\n",
    "    if len(iteme) <=1:\n",
    "        return items"
   ]
  },
  {
   "cell_type": "markdown",
   "metadata": {},
   "source": [
    "### Partitions\n",
    "\n",
    "How do we break up the data in a merge sort? We split it in half until there's no more data to split. Our first step is to break down all of the items of the list into their own list.\n"
   ]
  },
  {
   "cell_type": "code",
   "execution_count": 11,
   "metadata": {},
   "outputs": [],
   "source": [
    "def merge_sort(items):\n",
    "    if len(iteme) <=1:\n",
    "        return items\n",
    "    middle_index = len(items)//2 # var for middle element\n",
    "    left_split = items[:middle_index]\n",
    "    right_split = items[middle_index:]\n",
    "    return middle_index, middle_split,right_split"
   ]
  },
  {
   "cell_type": "markdown",
   "metadata": {},
   "source": [
    "### Creating the Merge Function\n",
    "\n",
    "Our <code>merge_sort()</code> function so far only separates the input list into many different parts — pretty much the opposite of what you'd expect a merge sort to do. To actually perform the merging, we're going to define a helper function that joins the data together.\n"
   ]
  },
  {
   "cell_type": "code",
   "execution_count": 14,
   "metadata": {},
   "outputs": [],
   "source": [
    "def merge_sort(items):\n",
    "    if len(iteme) <=1:\n",
    "        return items\n",
    "    middle_index = len(items)//2 # var for middle element\n",
    "    left_split = items[:middle_index]\n",
    "    right_split = items[middle_index:]\n",
    "    return middle_index, middle_split,right_split\n",
    "\n",
    "def merge(left,right):\n",
    "    result = []\n",
    "\n",
    "    while (left and right): # check if left and right var have elements\n",
    "        if left[0] < right[0]: # check if 1st el in left is less than 1st el in right\n",
    "          result.append(left[0]) # if so, add it to result list\n",
    "          left.pop(0) # remove first el from left list\n",
    "        else:\n",
    "          result.append(right[0])\n",
    "          right.pop(0)\n",
    "    if left: # Check for any el remaining in left and add to result\n",
    "        result += left\n",
    "    if right: # check for any el remaining in right and add to result\n",
    "        result += right\n",
    "    return result"
   ]
  },
  {
   "cell_type": "markdown",
   "metadata": {},
   "source": [
    "#### Finishing the sort"
   ]
  },
  {
   "cell_type": "code",
   "execution_count": 17,
   "metadata": {},
   "outputs": [],
   "source": [
    "def merge_sort(items):\n",
    "    if len(items) <=1:\n",
    "        return items\n",
    "    middle_index = len(items)//2 # var for middle element\n",
    "    left_split = items[:middle_index]\n",
    "    right_split = items[middle_index:]\n",
    "    \n",
    "    left_sorted = merge_sort(left_split) # recussively run merge_sort on left_split\n",
    "    right_sorted = merge_sort(right_split) # recussively run merge_sort on righ_split\n",
    "    return merge(left_sorted,right_sorted)\n",
    "\n",
    "def merge(left,right):\n",
    "    result = []\n",
    "\n",
    "    while (left and right): # check if left and right var have elements\n",
    "        if left[0] < right[0]: # check if 1st el in left is less than 1st el in right\n",
    "          result.append(left[0]) # if so, add it to result list\n",
    "          left.pop(0) # remove first el from left list\n",
    "        else:\n",
    "          result.append(right[0])\n",
    "          right.pop(0)\n",
    "    if left: # Check for any el remaining in left and add to result\n",
    "        result += left\n",
    "    if right: # check for any el remaining in right and add to result\n",
    "        result += right\n",
    "    return result"
   ]
  },
  {
   "cell_type": "code",
   "execution_count": 23,
   "metadata": {},
   "outputs": [],
   "source": [
    "unordered_list1 = [356, 746, 264, 569, 949, 895, 125, 455]\n",
    "unordered_list2 = [787, 677, 391, 318, 543, 717, 180, 113, 795, 19, 202, 534, 201, 370, 276, 975, 403, 624, 770, 595, 571, 268, 373]\n",
    "unordered_list3 = [860, 380, 151, 585, 743, 542, 147, 820, 439, 865, 924, 387]\n",
    "\n",
    "ordered_list1 = merge_sort(unordered_list1)\n",
    "ordered_list2 = merge_sort(unordered_list2)\n",
    "ordered_list3 = merge_sort(unordered_list3)"
   ]
  },
  {
   "cell_type": "code",
   "execution_count": 24,
   "metadata": {},
   "outputs": [
    {
     "name": "stdout",
     "output_type": "stream",
     "text": [
      "[125, 264, 356, 455, 569, 746, 895, 949]\n",
      "[19, 113, 180, 201, 202, 268, 276, 318, 370, 373, 391, 403, 534, 543, 571, 595, 624, 677, 717, 770, 787, 795, 975]\n",
      "[147, 151, 380, 387, 439, 542, 585, 743, 820, 860, 865, 924]\n"
     ]
    }
   ],
   "source": [
    "print(ordered_list1)\n",
    "print(ordered_list2)\n",
    "print(ordered_list3)"
   ]
  },
  {
   "cell_type": "markdown",
   "metadata": {},
   "source": [
    "# QUICKSORT"
   ]
  },
  {
   "cell_type": "markdown",
   "metadata": {},
   "source": [
    "Quicksort is an efficient recursive algorithm for sorting arrays or lists of values. The algorithm is a comparison sort, where values are ordered by a comparison operation such as <code>></code> or <code><</code>.\n",
    "\n",
    "Quicksort uses a divide and conquer strategy, breaking the problem into smaller sub-problems until the solution is so clear there's nothing to solve.\n",
    "\n",
    "The problem: many values in the array which are out of order.\n",
    "\n",
    "The solution: break the array into sub-arrays containing at most one element. One element is sorted by default!\n",
    "\n",
    "We choose a single pivot element from the list. Every other element is compared with the pivot, which partitions the array into three groups.\n",
    "<ul>\n",
    "    <li>A sub-array of elements smaller than the pivot.</li>\n",
    "    <li>The pivot itself.</li>\n",
    "    <li>A sub-array of elements greater than the pivot.</li>\n",
    "</ul>\n",
    "\n",
    "The process is repeated on the sub-arrays until they contain zero or one element. Elements in the \"smaller than\" group are never compared with elements in the \"greater than\" group. If the smaller and greater groupings are roughly equal, this cuts the problem in half with each partition step!\n",
    "<pre>\n",
    "<code>\n",
    "[6,5,2,1,9,3,8,7]\n",
    "6 # The pivot\n",
    "[5, 2, 1, 3] # lesser than 6\n",
    "[9, 8, 7] # greater than 6\n",
    "\n",
    "[5,2,1,3]  # these values will never be compared with \n",
    "[9,8,7] # these values\n",
    "</code>\n",
    "</pre>\n",
    "\n",
    "Depending on the implementation, the sub-arrays of one element each are recombined into a new array with sorted ordering, or values within the original array are swapped in-place, producing a sorted mutation of the original array.\n",
    "\n",
    "<strong>QUIZ</strong>: <em>What does it mean for a list of values to be sorted? Use the terminology from your language of choice.</em>\n",
    "\n",
    "<strong>QUIZ</strong>: <em>Is it true that a list of one element is sorted? Why?</em>\n"
   ]
  },
  {
   "cell_type": "markdown",
   "metadata": {},
   "source": [
    "## Quicksort Runtime\n",
    "\n",
    "The key to Quicksort's runtime efficiency is the division of the array. The array is partitioned according to comparisons with the pivot element, so which pivot is the optimal choice to produce sub-arrays of roughly equal length?\n",
    "\n",
    "The graphic displays two data sets which always use the first element as the pivot. Notice how many more steps are required when the quicksort algorithm is run on an already sorted input. The partition step of the algorithm hardly divides the array at all!\n",
    "\n",
    "The worst case occurs when we have an imbalanced partition like when the first element is continually chosen in a sorted data-set.\n",
    "\n",
    "One popular strategy is to select a random element as the pivot for each step. The benefit is that no particular data set can be chosen ahead of time to make the algorithm perform poorly.\n",
    "\n",
    "Another popular strategy is to take the first, middle, and last elements of the array and choose the median element as the pivot. The benefit is that the division of the array tends to be more uniform.\n",
    "\n",
    "Quicksort is an unusual algorithm in that the worst case runtime is <code>O(N^2)</code>, but the average case is <code>O(N * logN)</code>.\n",
    "\n",
    "We typically only discuss the worst case when talking about an algorithm's runtime, but for Quicksort it's so uncommon that we generally refer to it as <code>O(N * logN)</code>.\n",
    "\n",
    "<strong>QUIZ</strong>: <em>With an already sorted dataset, would the division improve if we always chose the last element as the pivot? Why or why not?</em>"
   ]
  },
  {
   "cell_type": "markdown",
   "metadata": {},
   "source": [
    "<img src=\"https://s3.amazonaws.com/codecademy-content/programs/cs-path/quicksort-conceptual/quicksort.svg\" height=600, width=500 style=\"background-color:#204056;\">"
   ]
  },
  {
   "cell_type": "markdown",
   "metadata": {},
   "source": [
    "1. Define our quicksort function with list, start, and end as parameters.\n",
    "\n",
    "Write pass in the body of the function to start.\n",
    "\n",
    "2. Replace the pass statement with a base case.\n",
    "\n",
    "We're going to be passing in the same list as an argument for each recursive call, but <code>start</code> and <code>end</code> will mark what part of the list we're considering.\n",
    "\n",
    "Our base case is when the list from start to end contains one or zero elements. \n",
    "<pre>\n",
    "<code>\n",
    "[\"race cars\", \"lasers\", \"airplanes\"]\n",
    "\n",
    "start = 1\n",
    "end = 1\n",
    "# start == end\n",
    "# A sub-list starting at index 1 and concluding at index 1 \n",
    "# [\"lasers\"]\n",
    "\n",
    "start = 2\n",
    "end = 1\n",
    "# start > end\n",
    "# A sub-list start index 2 and concluding at index 1\n",
    "# []\n",
    "\n",
    "If the base case is met, then <code>return</code> from the function.\n",
    "\n",
    "3. Let's start with a simple inductive step which takes us closer to the base case we've just defined.\n",
    "\n",
    "After the <code>if</code> statement, print out the element at <code>start</code>.\n",
    "\n",
    "Then, increment <code>start</code> by one and recursively call <code>quicksort</code> with <code>list, start, and end<code>.\n",
    "\n",
    "Test it out by called <code>quicksort</code> on the <code>colors</code> list. You should see each color except the last printed out.\n"
   ]
  },
  {
   "cell_type": "code",
   "execution_count": 28,
   "metadata": {},
   "outputs": [
    {
     "name": "stdout",
     "output_type": "stream",
     "text": [
      "blue\n",
      "red\n",
      "green\n",
      "purple\n"
     ]
    },
    {
     "data": {
      "text/plain": [
       "['blue', 'red', 'green', 'purple', 'orange']"
      ]
     },
     "execution_count": 28,
     "metadata": {},
     "output_type": "execute_result"
    }
   ],
   "source": [
    "colors = [\"blue\", \"red\", \"green\", \"purple\", \"orange\"]\n",
    "def quicksort(list,start,end):\n",
    "  if start >= end:\n",
    "    return list\n",
    "  print(list[start])\n",
    "  start = start+1\n",
    "  return quicksort(list,start,end)\n",
    "  \n",
    "quicksort(colors,0,len(colors) - 1)"
   ]
  },
  {
   "cell_type": "markdown",
   "metadata": {},
   "source": [
    "## Pickin' Pivots\n",
    "\n",
    "Quicksort works by selecting a pivot element and dividing the list into two sub-lists of values greater than or less than the pivot element's value. This process of \"partitioning\" the list breaks the problem down into two smaller sub-lists.\n",
    "\n",
    "For the algorithm to remain efficient, those sub-lists should be close to equal in length. Here's an example:\n",
    "<pre><code>\n",
    "[9, 3, 21, 4, 50, 8, 11]\n",
    "# pick the first element, 9, as the pivot\n",
    "# \"lesser_than_list\" becomes [3, 4, 8]\n",
    "# \"greater_than_list\" becomes [21, 50, 11]\n",
    "</code></pre>\n",
    "In this example the two sub-lists are equal in length, but what happens if we pick the first element as a pivot in a sorted list?\n",
    "<pre><code>\n",
    "[1, 2, 3, 4, 5, 6]\n",
    "# pick the first element, 1, as the pivot\n",
    "# \"lesser_than_list\" becomes []\n",
    "# \"greater_than_list\" becomes [2,3,4,5,6]\n",
    "</code></pre>\n",
    "\n",
    "Our partition step has produced severely unbalanced sub-lists! While it may seem silly to sort an already sorted list, this is a common enough occurrence that we'll need to make an adjustment.\n",
    "\n",
    "We can avoid this problem by randomly selecting a pivot element from the list each time we partition. The benefit of random selection is that no particular data set will consistently cause trouble for the algorithm! We'll then swap this random element with the last element of the list so our code consistently knows where to find the pivot."
   ]
  },
  {
   "cell_type": "markdown",
   "metadata": {},
   "source": [
    "1. We've imported the randrange() function to assist with the random pivot. <a href=\"https://docs.python.org/3/library/random.html#random.randrange\" target=\"_blank\">Check the documentation for how it works</a>.\n",
    "\n",
    "Use this function to create the variable <code>pivot_idx</code>, a random index between <code>start</code> and <code>end</code>.\n",
    "\n",
    "2. Make another variable <code>pivot_element</code> and use <code>pivot_idx</code> to retrieve the value located in the list which was passed in as an argument.\n",
    "\n",
    "3. Random is great because it protects our algorithm against inefficient runtimes, but our code will be simpler for the remainder of the algorithm if we know the pivot will always be in the same place.\n",
    "\n",
    "Swap the <code>end</code> element of the list with the <code>pivot_idx</code> so we know the pivot element will always be located at the end of the list.\n"
   ]
  },
  {
   "cell_type": "code",
   "execution_count": 29,
   "metadata": {},
   "outputs": [
    {
     "name": "stdout",
     "output_type": "stream",
     "text": [
      "BEFORE:  [32, 22]\n",
      "22\n",
      "AFTER:  [22, 32]\n"
     ]
    }
   ],
   "source": [
    "from random import randrange\n",
    "\n",
    "def quicksort(list, start, end):\n",
    "  if start >= end:\n",
    "    return list\n",
    "\t# Define your pivot variables below\n",
    "  pivot_idx = randrange(start,end)\n",
    "  pivot_element = list[pivot_idx]\n",
    "  # Swap the elements in list below\n",
    "  list[end],list[pivot_idx] = list[pivot_idx],list[end]\n",
    "  # Leave these lines for testing\n",
    "  print(list[start])\n",
    "  start += 1\n",
    "  return quicksort(list, start, end)\n",
    "\n",
    "\n",
    "my_list = [32, 22]\n",
    "print(\"BEFORE: \", my_list)\n",
    "sorted_list = quicksort(my_list, 0, len(my_list) - 1)\n",
    "print(\"AFTER: \", sorted_list)"
   ]
  },
  {
   "cell_type": "markdown",
   "metadata": {},
   "source": [
    "## Partitioning Party\n",
    "We need to partition our list into two sub-lists of greater than or smaller than elements, and we're going to do this \"in-place\" without creating new lists. Strap in, this is the most complex portion of the algorithm!\n",
    "\n",
    "Because we're doing this in-place, we'll need two pointers. One pointer will keep track of the \"lesser than\" elements. We can think of it as the border where all values at a lower index are lower in value to the pivot. The other pointer will track our progress through the list.\n",
    "\n",
    "1. Create the variable <code>lesser_than_pointer</code> and assign it to the start of the list. \n",
    "\n",
    "2. Create a <code>for</code> loop that iterates from <code>start</code> to <code>end</code>, and set the iterating variable to <code>idx</code>. This will track our progress through the list (or sub-list) we're partitioning.\n",
    "\n",
    "To start, write <code>continue</code> in the for loop.\n",
    "\n",
    "3. Within the loop, remove <code>continue</code> and replace it with a conditional.\n",
    "\n",
    "We need to do something <code>if</code> the element at <code>idx</code> is less than <code>pivot_element</code>.\n",
    "\n",
    "If so:\n",
    "<ol>\n",
    "    <li>Use parallel assignment to swap the values at <code>lesser_than_pointer</code> and <code>idx</code>.</li>\n",
    "    <li>Increment the <code>lesser_than_pointer</code></li>\n",
    "    </ol>\n",
    "\n",
    "4.Once the loop concludes, use parallel assignment to swap the pivot element with the value located at <code>lesser_than_pointer</code>."
   ]
  },
  {
   "cell_type": "code",
   "execution_count": 41,
   "metadata": {},
   "outputs": [
    {
     "name": "stdout",
     "output_type": "stream",
     "text": [
      "BEFORE:  [42, 103, 22]\n",
      "22\n",
      "42\n",
      "AFTER:  [22, 42, 103]\n"
     ]
    }
   ],
   "source": [
    "from random import randrange\n",
    "\n",
    "def quicksort(list, start, end):\n",
    "  if start >= end:\n",
    "    return list\n",
    "\n",
    "  pivot_idx = randrange(start, end)\n",
    "  pivot_element = list[pivot_idx]\n",
    "  list[end], list[pivot_idx] = list[pivot_idx], list[end]\n",
    "\n",
    "  # Create the lesser_than_pointer\n",
    "  lesser_than_pointer = start\n",
    "  # Start a for loop, use 'idx' as the variable\n",
    "    # Check if the value at idx is less than the pivot\n",
    "      # If so: \n",
    "        # 1) swap lesser_than_pointer and idx values\n",
    "        # 2) increment lesser_than_pointer\n",
    "  for idx in range(start,end):\n",
    "    if list[idx] < pivot_element:\n",
    "      list[lesser_than_pointer], list[idx] = list[idx], list[lesser_than_pointer]\n",
    "      lesser_than_pointer += 1\n",
    "  # After the loop is finished...\n",
    "  # swap pivot with value at lesser_than_pointer\n",
    "  pivot_element = list[lesser_than_pointer]\n",
    "  print(list[start])\n",
    "  start += 1\n",
    "  return quicksort(list, start, end)\n",
    "\n",
    "my_list = [42, 103, 22]\n",
    "print(\"BEFORE: \", my_list)\n",
    "sorted_list = quicksort(my_list, 0, len(my_list) - 1)\n",
    "print(\"AFTER: \", sorted_list)"
   ]
  },
  {
   "cell_type": "markdown",
   "metadata": {},
   "source": [
    "## Recurse, Rinse, Repeat\n",
    "\n",
    "We've made it through the trickiest portion of the algorithm, but we're not quite finished. We've partitioned the list once, but we need to continue partitioning until the base case is met.\n",
    "\n",
    "The key insight is that we'll recursively call quicksort and pass along these updated pointers to mark the various sub-lists. Make sure you're excluding the index that stores the newly placed pivot value or we'll never hit the base case!\n",
    "\n",
    "1. Complete our quicksort algorithm by recursively calling quicksort on the left and right sub-lists.\n",
    "\n",
    "2. Call <code>quicksort()</code> on <code>unsorted_list</code>. Be sure to pass in all three arguments!\n",
    "\n",
    "    Print <code>unsorted_list</code>.\n"
   ]
  },
  {
   "cell_type": "code",
   "execution_count": 61,
   "metadata": {},
   "outputs": [
    {
     "name": "stdout",
     "output_type": "stream",
     "text": [
      "[42, 7, 12, 3, 36, 24]\n",
      "[3, 7, 12, 24, 36, 42]\n"
     ]
    }
   ],
   "source": [
    "from random import randrange, shuffle \n",
    "def quicksort(list, start, end):\n",
    "  # this portion of listay has been sorted\n",
    "  if start >= end:\n",
    "    return\n",
    "\n",
    "  # select random element to be pivot\n",
    "  pivot_idx = randrange(start, end + 1)\n",
    "  pivot_element = list[pivot_idx]\n",
    "\n",
    "  # swap random element with last element in sub-listay\n",
    "  list[end], list[pivot_idx] = list[pivot_idx], list[end]\n",
    "\n",
    "  # tracks all elements which should be to left (lesser than) pivot\n",
    "  less_than_pointer = start\n",
    "  \n",
    "  for i in range(start, end):\n",
    "    # we found an element out of place\n",
    "    if list[i] < pivot_element:\n",
    "      # swap element to the right-most portion of lesser elements\n",
    "      list[i], list[less_than_pointer] = list[less_than_pointer], list[i]\n",
    "      # tally that we have one more lesser element\n",
    "      less_than_pointer += 1\n",
    "  # move pivot element to the right-most portion of lesser elements\n",
    "  list[end], list[less_than_pointer] = list[less_than_pointer], list[end]\n",
    "  \n",
    "  # Call quicksort on the \"left\" and \"right\" sub-lists\n",
    "  quicksort(list,start,less_than_pointer-1)\n",
    "  quicksort(list,less_than_pointer+1,end)\n",
    "    \n",
    "unsorted_list = [3,7,12,24,36,42]\n",
    "shuffle(unsorted_list)\n",
    "print(unsorted_list)\n",
    "# use quicksort to sort the list, then print it out!\n",
    "quicksort(unsorted_list,0,len(unsorted_list)-1)\n",
    "print(unsorted_list)"
   ]
  },
  {
   "cell_type": "markdown",
   "metadata": {},
   "source": [
    "### Quicksort Review\n",
    "\n",
    "Congratulations on implementing the quicksort algorithm in Python. To review:\n",
    "<ol>\n",
    "    <li>We established a base case where the algorithm will complete when the start and end pointers indicate a list with one or zero elements.</li>\n",
    "    <li>If we haven't hit the base case, we randomly selected an element as the pivot and swapped it to the end of the list</li>\n",
    "    <li>We then iterate through that list and track all the \"lesser than\" elements by swapping them with the iteration index and incrementing a lesser_than_pointer.</li>\n",
    "    <li>Once we've iterated through the list, we swap the pivot element with the element located at lesser_than_pointer.</li>\n",
    "    <li>With the list partitioned into two sub-lists, we repeat the process on both halves until base cases are met.</li>\n",
    "</ol>\n"
   ]
  },
  {
   "cell_type": "markdown",
   "metadata": {},
   "source": [
    "Complete code with extra/additional comments"
   ]
  },
  {
   "cell_type": "code",
   "execution_count": 63,
   "metadata": {},
   "outputs": [
    {
     "name": "stdout",
     "output_type": "stream",
     "text": [
      "PRE SORT:  [8, 6, 7, 2, 1, 3, 4, 5]\n",
      "Running quicksort on [8, 6, 7, 2, 1, 3, 4, 5]\n",
      "Selected pivot 2\n",
      "Swapping 1 with 2\n",
      "[1, 2, 7, 5, 8, 3, 4, 6] successfully partitioned\n",
      "Running quicksort on [7, 5, 8, 3, 4, 6]\n",
      "Selected pivot 6\n",
      "Swapping 5 with 6\n",
      "Swapping 3 with 6\n",
      "Swapping 4 with 6\n",
      "[5, 3, 4, 6, 8, 7] successfully partitioned\n",
      "Running quicksort on [5, 3, 4]\n",
      "Selected pivot 4\n",
      "Swapping 3 with 4\n",
      "[3, 4, 5] successfully partitioned\n",
      "Running quicksort on [8, 7]\n",
      "Selected pivot 7\n",
      "[7, 8] successfully partitioned\n",
      "None\n",
      "POST SORT:  [1, 2, 3, 4, 5, 6, 7, 8]\n"
     ]
    }
   ],
   "source": [
    "from random import randrange, shuffle\n",
    "\n",
    "def quicksort(list, start, end):\n",
    "  # this portion of list has been sorted\n",
    "  if start >= end:\n",
    "    return\n",
    "  print(\"Running quicksort on {0}\".format(list[start: end + 1]))\n",
    "  # select random element to be pivot\n",
    "  pivot_idx = randrange(start, end + 1)\n",
    "  pivot_element = list[pivot_idx]\n",
    "  print(\"Selected pivot {0}\".format(pivot_element))\n",
    "  # swap random element with last element in sub-lists\n",
    "  list[end], list[pivot_idx] = list[pivot_idx], list[end]\n",
    "\n",
    "  # tracks all elements which should be to left (lesser than) pivot\n",
    "  less_than_pointer = start\n",
    "  \n",
    "  for i in range(start, end):\n",
    "    # we found an element out of place\n",
    "    if list[i] < pivot_element:\n",
    "      # swap element to the right-most portion of lesser elements\n",
    "      print(\"Swapping {0} with {1}\".format(list[i], pivot_element))\n",
    "      list[i], list[less_than_pointer] = list[less_than_pointer], list[i]\n",
    "      # tally that we have one more lesser element\n",
    "      less_than_pointer += 1\n",
    "  # move pivot element to the right-most portion of lesser elements\n",
    "  list[end], list[less_than_pointer] = list[less_than_pointer], list[end]\n",
    "  print(\"{0} successfully partitioned\".format(list[start: end + 1]))\n",
    "  # recursively sort left and right sub-lists\n",
    "  quicksort(list, start, less_than_pointer - 1)\n",
    "  quicksort(list, less_than_pointer + 1, end)\n",
    "    \n",
    "  \n",
    "list = [5,3,1,7,4,6,2,8]\n",
    "shuffle(list)\n",
    "print(\"PRE SORT: \", list)\n",
    "print(quicksort(list, 0, len(list) -1))\n",
    "print(\"POST SORT: \", list)\n"
   ]
  },
  {
   "cell_type": "markdown",
   "metadata": {},
   "source": [
    "# RADIX SORT"
   ]
  },
  {
   "cell_type": "markdown",
   "metadata": {},
   "source": [
    "## What Is A Radix\n",
    "\n",
    "Quick, which number is bigger: 1489012 or 54? It’s 1489012, but how can you tell? It has more digits so it has to be larger, but why exactly is that the case?\n",
    "\n",
    "Our number system was developed by 8th century Arabic mathematicians and was successful because it made arithmetic operations more sensible and larger numbers easier to write and comprehend.\n",
    "\n",
    "The breakthrough those mathematicians made required defining a set of rules for how to depict every number. First we decide on an alphabet: different glyphs, or digits, that we’ll use to write our numbers with. The alphabet that we use to depict numbers in this system are the ten digits 0, 1, 2, 3, 4, 5, 6, 7, 8, and 9. We call the length of this alphabet our radix (or base). So for our decimal system, we have a radix of 10.\n",
    "\n",
    "Next we need to understand what those digits mean in different positions. In our system we have a ones place, a tens place, a hundreds place and so on. So what do digits mean in each of those places?\n",
    "\n",
    "This is where explaining gets a little complicated because the actual knowledge might feel very fundamental. There’s a difference, for instance, between the digit '6' and the actual number six that we represent with the digit '6'. This difference is similar to the difference between the letter 'a' (which we can use in lots of words) and the word 'a'.\n",
    "\n",
    "But the core of the idea is that we use these digits to represent different values when they're used in different positions. The digit 6 in the number 26 represents the value 6, but the digit 6 used in the number 86452 represents the value 6000.\n",
    "\n",
    "<img src=\"https://s3.amazonaws.com/codecademy-content/courses/radix-sort/radix1.svg\" style=\"background-color:#204056;\">"
   ]
  },
  {
   "cell_type": "markdown",
   "metadata": {},
   "source": [
    "## Base Numbering Systems\n",
    "\n",
    "The value of different positions in a number increases by a multiplier of 10 in increasing positions. This means that a digit '8' in the rightmost place of a number is equal to the value 8, but that same digit when shifted left one position (i.e., in 80) is equal to <code>10 * 8</code>. If you shift it again one position you get 800, which is <code>10 * 10 * 8</code>.\n",
    "\n",
    "This is where it's useful to incorporate the shorthand of exponential notation. It's important to note that 10<sup>0</sup> is equal to 1. Each position corresponds to a different exponent of 10.\n",
    "\n",
    "So why 10? It's a consequence of how many digits are in our alphabet for numbering. Since we have 10 digits (0-9) we can count all the way up to 9 before we need to use a different position. This system that we used is called base-10 because of that.\n",
    "\n",
    "<img src=\"https://s3.amazonaws.com/codecademy-content/courses/radix-sort/radix2.svg\" style=\"background-color:#204056;\">\n",
    "\n"
   ]
  },
  {
   "cell_type": "markdown",
   "metadata": {},
   "source": [
    "## Sorting By Radix\n",
    "\n",
    "So how does a radix sort use this base numbering system to sort integers? First, there are two different kinds of radix sort: most significant digit, or MSD, and least significant digit, or LSD.\n",
    "\n",
    "Both radix sorts organize the input list into ten \"buckets\", one for each digit. The numbers are placed into the buckets based on the MSD (left-most digit) or LSD (right-most digit). For example, the number 2367 would be placed into the bucket \"2\" for MSD and into \"7\" for LSD.\n",
    "\n",
    "This bucketing process is repeated over and over again until all digits in the longest number have been considered. The order within buckets for each iteration is preserved. For example, the numbers 23, 25 and 126 are placed in the \"3\", \"5\", and \"6\" buckets for an initial LSD bucketing. On the second iteration of the algorithm, they are all placed into the \"2\" bucket, but the order is preserved as 23, 25, 126.\n",
    "\n",
    "<img src=\"https://s3.amazonaws.com/codecademy-content/courses/radix-sort/radix3.svg\" style=\"background-color:#204056;\">\n",
    "<strong>QUIZ:</strong> <em> From the illustration in the image above, why do we bucket the shorter numbers into the \"0\" bucket in the last step?</em>"
   ]
  },
  {
   "cell_type": "markdown",
   "metadata": {},
   "source": [
    "## Radix Sort Performance\n",
    "\n",
    "The most amazing feature of radix sort is that it manages to sort a list of integers without performing any comparisons whatsoever. We call this a non-comparison sort.\n",
    "\n",
    "This makes its performance a little difficult to compare to most other comparison-based sorts. Consider a list of length <em>n</em>. For each iteration of the algorithm, we are deciding which bucket to place each of the <em>n</em> entries into.\n",
    "\n",
    "How many iterations do we have? Remember that we continue iterating until we examine each digit. This means we need to iterate for how ever many digits we have. We'll call this average number of digits the word-size or <em>w</em>.\n",
    "\n",
    "This means the complexity of radix sort is <code>O(wn)</code>. Assuming the length of the list is much larger than the number of digits, we can consider <em>n</em> a constant factor and this can be reduced to <code>O(n)</code>.\n",
    "\n",
    "<img src=\"https://s3.amazonaws.com/codecademy-content/courses/radix-sort/radix4.svg\" style=\"background-color:#204056;\">\n",
    "\n"
   ]
  },
  {
   "cell_type": "markdown",
   "metadata": {},
   "source": [
    "## Radix Review\n",
    "\n",
    "Take a moment to review radix sort:\n",
    "<ul>\n",
    "    <li>A radix is the base of a number system. For the decimal number system, the radix is 10.</li>\n",
    "    <li>Radix sort has two variants - MSD and LSD</li>\n",
    "    <li>Numbers are bucketed based on the value of digits moving left to right (for MSD) or right to left (for LSD)</li>\n",
    "    <li>Radix sort is considered a non-comparison sort</li>\n",
    "    <li>The performance of radix sort is <code>O(n)</code></li>\n",
    "</ul>\n"
   ]
  },
  {
   "cell_type": "markdown",
   "metadata": {},
   "source": [
    "## Python Implementation"
   ]
  },
  {
   "cell_type": "markdown",
   "metadata": {},
   "source": [
    "### Finding the Max Exponent\n",
    "\n",
    "In our version of least significant digit radix sort, we're going to utilize the string representation of each integer. This, combined with negative indexing, will allow us to count each digit in a number from right-to-left.\n",
    "\n",
    "Some other implementations utilize integer division and modular arithmetic to find each digit in a radix sort, but our goal here is to build an intuition for how the sort works.\n",
    "\n",
    "Our first step is going to be finding the max_exponent, which is the number of digits long the largest number is. We're going to find the largest number, cast it to a string, and take the length of that string.\n",
    "\n",
    "1. Define your function <code>radix_sort()</code> that takes a list as input and call that input <code>to_be_sorted</code>.\n",
    "\n",
    "2. In order to determine how many digits are in the longest number in the list, we'll need to find the longest number.\n",
    "\n",
    "    Declare a new variable <code>maximum_value</code> and assign the <code>max()</code> of to_be_sorted to it.\n",
    "    \n",
    "3. Now we want to define our <code>max_exponent</code>.\n",
    "    <ul>\n",
    "    <li>First, cast <code>maximum_value</code> to a string.</li>\n",
    "    <li>Then take the <code>len()</code> of that string.</li>\n",
    "    <li>Then assign that <code>len()</code> to a variable called <code>max_exponent</code>.</li>\n",
    "    <li>Then return <code>max_exponent</code>.</li>\n",
    "</ul>\n"
   ]
  },
  {
   "cell_type": "code",
   "execution_count": 64,
   "metadata": {},
   "outputs": [],
   "source": [
    "def radix_sort(to_be_sorted):\n",
    "    maximum_value = max(to_be_sorted)\n",
    "    max_exponent = len(str(maximum_value))\n",
    "    return max_exponent"
   ]
  },
  {
   "cell_type": "markdown",
   "metadata": {},
   "source": [
    "### Setting Up For Sorting\n",
    "\n",
    "In this implementation, we're going to build the radix sort naturally, from the inside out. The first step we're going to take is going to be our inner-most loop, so that we know we'll be solid when we're iterating through each of the exponents.\n",
    "\n",
    "1. By the nature of a radix sort we need to erase and rewrite our output list a number of times. It would be bad practice to mutate the input list — in case something goes wrong with our code, or someone using our sort decides they don't want to wait anymore. We wouldn't want anyone out there to have to deal with the surprise of having their precious list of integers mangled.\n",
    "\n",
    "    Create a copy of <code>to_be_sorted</code> and save the copy into a new list called <code>being_sorted</code>.\n",
    "    HINT: use the slice[:] operator with no arguments\n",
    "\n",
    "2. A radix sort goes through each position of each number and puts all of the inputs in different buckets depending on the value . Since there are 10 different values (that is, 0 through 9) that a position can have, we need to create ten different buckets to put each number in.\n",
    "\n",
    "    Create a list of ten empty lists and assign the result to a variable called <code>digits</code>. Then return <code>digits</code>.\n",
    "\n",
    "    HINT: use list comprehensions"
   ]
  },
  {
   "cell_type": "code",
   "execution_count": 65,
   "metadata": {},
   "outputs": [],
   "source": [
    "def radix_sort(to_be_sorted):\n",
    "  maximum_value = max(to_be_sorted)\n",
    "  max_exponent = len(str(maximum_value))\n",
    "\n",
    "  # create copy of to_be_sorted here\n",
    "  being_sorted = to_be_sorted[:]\n",
    "  digits = [[] for i in range(10)] #A list of 10 empty lists\n",
    "  return digits"
   ]
  },
  {
   "cell_type": "markdown",
   "metadata": {},
   "source": [
    "### Bucketing Numbers\n",
    "\n",
    "The least significant digit radix sort algorithm takes each number in the input list, looks at the digits of that number in order from right to left, and incrementally stuffs each number into the bucket corresponding to the value of that digit.\n",
    "\n",
    "First we're going to write this logic for the least significant digit, then we're going to loop over the code we write to do that for every digit.\n",
    "\n",
    "1. We'll need to iterate over <code>being_sorted</code>. Grab each value of <code>being_sorted</code> and save it as the temporary variable <code>number</code>.\n",
    "\n",
    "2. Now convert <code>number</code> to a string and save that as <code>number_as_a_string</code>.\n",
    "\n",
    "3. How do we get the last element of a string? This would correspond to the least significant digit of the number. For strings, this is simple, we can use a negative index.\n",
    "\n",
    "    Save the last element of <code>number_as_a_string</code> to the variable <code>digit</code>.\n",
    "\n",
    "4. Now that we have a string containing the least significant digit of <code>number</code> saved to the variable <code>digit</code>. We want to use <code>digit</code> as a list index for <code>digits</code>. Unfortunately, it needs to be an integer to do that. But that should be easy for us to do:\n",
    "\n",
    "    Set <code>digit</code> equal to the integer form of <code>digit</code>.\n",
    "\n",
    "5. We know that <code>digits[digit]</code> is an empty list (because <code>digits</code> has ten lists and <code>digit</code> is a number from 0 to 9). So let's add our number to that list!\n",
    "\n",
    "    Call <code>.append()</code> on <code>digits[digit]</code> with the argument <code>number</code>.\n",
    "\n",
    "6. Now break out of the for loop and return <code>digits</code>."
   ]
  },
  {
   "cell_type": "code",
   "execution_count": 82,
   "metadata": {},
   "outputs": [],
   "source": [
    "def radix_sort(to_be_sorted):\n",
    "    maximum_value = max(to_be_sorted)\n",
    "    max_exponent = len(str(maximum_value))\n",
    "\n",
    "    being_sorted = to_be_sorted[:]\n",
    "    digits = [[] for i in range(10)]\n",
    "\n",
    "    # create for loop here:\n",
    "    for number in being_sorted:\n",
    "        number_as_a_string = str(number)\n",
    "        digit = number_as_a_string[-1]\n",
    "        digit = int(digit)\n",
    "        digits[digit].append(number)\n",
    "    return digits"
   ]
  },
  {
   "cell_type": "markdown",
   "metadata": {},
   "source": [
    "### Rendering the List\n",
    "\n",
    "For every iteration, radix sort renders a version of the input list that is sorted based on the digit that was just looked at. At first pass, only the ones digit is sorted. At the second pass, the tens and the ones are sorted. This goes on until the digits in the largest position of the largest number in the list are all sorted, and the list is sorted at that time.\n",
    "\n",
    "Here we'll be rendering the list, at first, it will just return the list sorted so just the ones digit is sorted.\n",
    "\n",
    "1. Outside of our for loop which appends the <code>numbers</code> in our input list to the different buckets in <code>digits</code>, let's render the list.\n",
    "\n",
    "    Since we know that all of our input numbers are in <code>digits</code> we can safely clear out <code>being_sorted</code>. We'll make it an empty list and then add back in all the numbers from <code>digits</code> as they appear.\n",
    "\n",
    "    Assign an empty list to <code>being_sorted</code>.\n",
    "\n",
    "2. Now, create a for loop that iterates through each of our lists in <code>digits</code>.\n",
    "\n",
    "    Call each of these lists <code>numeral</code> because they each correspond to one specific numeral from 0 to 9.\n",
    "\n",
    "3. Now use the <code>.extend()<code> method (which appends all the elements of a list, instead of appending the list itself) to add the elements of <code>numeral</code> to <code>being_sorted</code>.\n",
    "\n",
    "4. Unindent out of the for loop and return <code>being_sorted</code>.\n"
   ]
  },
  {
   "cell_type": "code",
   "execution_count": 84,
   "metadata": {},
   "outputs": [],
   "source": [
    "def radix_sort(to_be_sorted):\n",
    "    maximum_value = max(to_be_sorted)\n",
    "    max_exponent = len(str(maximum_value))\n",
    "\n",
    "    being_sorted = to_be_sorted[:]\n",
    "    digits = [[] for i in range(10)]\n",
    "\n",
    "    # create for loop here:\n",
    "    for number in being_sorted:\n",
    "        number_as_a_string = str(number)\n",
    "        digit = number_as_a_string[-1]\n",
    "        digit = int(digit)\n",
    "        digits[digit].append(number)\n",
    "    \n",
    "    being_sorted = []\n",
    "    for numeral in digits:\n",
    "        being_sorted.extend(numeral)\n",
    "        \n",
    "    return being_sorted"
   ]
  },
  {
   "cell_type": "markdown",
   "metadata": {},
   "source": [
    "### Iterating through Exponents\n",
    "\n",
    "We have the interior of our radix sort, which right now goes through a list and sorts it by the first digit in each number. That's a pretty great start actually. It won't be hard for us to go over every digit in a number now that we can already sort by a given digit.\n",
    "\n",
    "1. After defining <code>being_sorted</code> for the first time in the function (and before defining <code>digits</code> which we'll need per iteration), create a new for loop that iterates through the <code>range()</code> of <code>max_exponent</code>.\n",
    "\n",
    "    Use the variable name <code>exponent</code> as a temporary variable in your for loop, it will count the current exponent we're looking at for each number.\n",
    "\n",
    "2. Now indent the rest of your function after this new for loop.\n",
    "\n",
    "    (Tip: You can highlight the text in your code editor and use the TAB key to increase the indentation of code.)\n",
    "\n",
    "3. In our for loop we're going to want to create the index we'll use to get the appropriate position in the numbers we're sorting.\n",
    "\n",
    "    First we're going to create the <code>position</code> variable, which keeps track of what exponent we're looking at. Since <code>exponent</code> is zero-indexed our position is always going to be one more than the <code>exponent</code>. Assign to it the value of <code>exponent + 1</code>.\n",
    "\n",
    "4. Now we want to create our <code>index</code> that we'll be using to index into each <code>number</code>! This <code>index</code> is going to be roughly the same as <code>position</code>, but since we're going to be indexing the string in reverse it needs to be negative!\n",
    "\n",
    "    Set <code>index</code> equal to <code>-position</code>.\n",
    "    \n",
    "5. Now in the body of our loop, let's update our digit lookup to get the digit at the given index. Where we before used <code>number_as_a_string[-1]</code> we'll want to start accessing <code>[index]</code> instead.\n",
    "\n",
    "    Update the line of code where we first define <code>digit</code> to access <code>index</code> in <code>number_as_a_string</code>.\n",
    "\n",
    "6. Now we've got a sort going! At the very end of our function, de-indenting out of all the for loops (but not the function itself), return <code>being_sorted</code>. It will be sorted by this point!\n"
   ]
  },
  {
   "cell_type": "code",
   "execution_count": 88,
   "metadata": {},
   "outputs": [],
   "source": [
    "def radix_sort(to_be_sorted):\n",
    "    maximum_value = max(to_be_sorted)\n",
    "    max_exponent = len(str(maximum_value))\n",
    "\n",
    "    being_sorted = to_be_sorted[:]\n",
    "    for exponent in range(max_exponent):\n",
    "        position = exponent+1\n",
    "        index = -position \n",
    "        \n",
    "        digits = [[] for i in range(10)]\n",
    "\n",
    "        # create for loop here:\n",
    "        for number in being_sorted:\n",
    "            number_as_a_string = str(number)\n",
    "            digit = number_as_a_string[index]\n",
    "            digit = int(digit)\n",
    "            \n",
    "            digits[digit].append(number)\n",
    "\n",
    "        being_sorted = []\n",
    "        for numeral in digits:\n",
    "            being_sorted.extend(numeral)\n",
    "        \n",
    "    return being_sorted"
   ]
  },
  {
   "cell_type": "code",
   "execution_count": 90,
   "metadata": {},
   "outputs": [
    {
     "ename": "IndexError",
     "evalue": "string index out of range",
     "output_type": "error",
     "traceback": [
      "\u001b[1;31m---------------------------------------------------------------------------\u001b[0m",
      "\u001b[1;31mIndexError\u001b[0m                                Traceback (most recent call last)",
      "\u001b[1;32m<ipython-input-90-2fa137e0b12c>\u001b[0m in \u001b[0;36m<module>\u001b[1;34m\u001b[0m\n\u001b[0;32m      1\u001b[0m \u001b[0munsorted_list\u001b[0m \u001b[1;33m=\u001b[0m \u001b[1;33m[\u001b[0m\u001b[1;36m830\u001b[0m\u001b[1;33m,\u001b[0m \u001b[1;36m921\u001b[0m\u001b[1;33m,\u001b[0m \u001b[1;36m163\u001b[0m\u001b[1;33m,\u001b[0m \u001b[1;36m373\u001b[0m\u001b[1;33m,\u001b[0m \u001b[1;36m961\u001b[0m\u001b[1;33m,\u001b[0m \u001b[1;36m559\u001b[0m\u001b[1;33m,\u001b[0m \u001b[1;36m89\u001b[0m\u001b[1;33m,\u001b[0m \u001b[1;36m199\u001b[0m\u001b[1;33m,\u001b[0m \u001b[1;36m535\u001b[0m\u001b[1;33m,\u001b[0m \u001b[1;36m959\u001b[0m\u001b[1;33m,\u001b[0m \u001b[1;36m40\u001b[0m\u001b[1;33m,\u001b[0m \u001b[1;36m641\u001b[0m\u001b[1;33m,\u001b[0m \u001b[1;36m355\u001b[0m\u001b[1;33m,\u001b[0m \u001b[1;36m689\u001b[0m\u001b[1;33m,\u001b[0m \u001b[1;36m621\u001b[0m\u001b[1;33m,\u001b[0m \u001b[1;36m183\u001b[0m\u001b[1;33m,\u001b[0m \u001b[1;36m182\u001b[0m\u001b[1;33m,\u001b[0m \u001b[1;36m524\u001b[0m\u001b[1;33m,\u001b[0m \u001b[1;36m1\u001b[0m\u001b[1;33m]\u001b[0m\u001b[1;33m\u001b[0m\u001b[0m\n\u001b[0;32m      2\u001b[0m \u001b[1;33m\u001b[0m\u001b[0m\n\u001b[1;32m----> 3\u001b[1;33m \u001b[0mradix_sort\u001b[0m\u001b[1;33m(\u001b[0m\u001b[0munsorted_list\u001b[0m\u001b[1;33m)\u001b[0m\u001b[1;33m\u001b[0m\u001b[0m\n\u001b[0m",
      "\u001b[1;32m<ipython-input-88-a0c14422d8b9>\u001b[0m in \u001b[0;36mradix_sort\u001b[1;34m(to_be_sorted)\u001b[0m\n\u001b[0;32m     13\u001b[0m         \u001b[1;32mfor\u001b[0m \u001b[0mnumber\u001b[0m \u001b[1;32min\u001b[0m \u001b[0mbeing_sorted\u001b[0m\u001b[1;33m:\u001b[0m\u001b[1;33m\u001b[0m\u001b[0m\n\u001b[0;32m     14\u001b[0m             \u001b[0mnumber_as_a_string\u001b[0m \u001b[1;33m=\u001b[0m \u001b[0mstr\u001b[0m\u001b[1;33m(\u001b[0m\u001b[0mnumber\u001b[0m\u001b[1;33m)\u001b[0m\u001b[1;33m\u001b[0m\u001b[0m\n\u001b[1;32m---> 15\u001b[1;33m             \u001b[0mdigit\u001b[0m \u001b[1;33m=\u001b[0m \u001b[0mnumber_as_a_string\u001b[0m\u001b[1;33m[\u001b[0m\u001b[0mindex\u001b[0m\u001b[1;33m]\u001b[0m\u001b[1;33m\u001b[0m\u001b[0m\n\u001b[0m\u001b[0;32m     16\u001b[0m             \u001b[0mdigit\u001b[0m \u001b[1;33m=\u001b[0m \u001b[0mint\u001b[0m\u001b[1;33m(\u001b[0m\u001b[0mdigit\u001b[0m\u001b[1;33m)\u001b[0m\u001b[1;33m\u001b[0m\u001b[0m\n\u001b[0;32m     17\u001b[0m \u001b[1;33m\u001b[0m\u001b[0m\n",
      "\u001b[1;31mIndexError\u001b[0m: string index out of range"
     ]
    }
   ],
   "source": [
    "unsorted_list = [830, 921, 163, 373, 961, 559, 89, 199, 535, 959, 40, 641, 355, 689, 621, 183, 182, 524, 1]\n",
    "\n",
    "radix_sort(unsorted_list)"
   ]
  },
  {
   "cell_type": "markdown",
   "metadata": {},
   "source": [
    "### Review (and Bug Fix!)\n",
    "\n",
    "Now that we've finished writing our radix sort we're finished for the day... or are we?\n",
    "\n",
    "1. Now that we've gotten our sort working let's test it out with some new data.\n",
    "\n",
    "    Run <code>radix_sort</code> on <code>unsorted_list</code>.\n",
    "\n",
    "2. What? <code>IndexError</code>? Did we forget something?\n",
    "\n",
    "    We did! Some of the numbers that we're sorting are going to be shorter than other numbers.\n",
    "\n",
    "    We can fix it though! First, we should comment out the line we added to test the sort.\n",
    "\n",
    "3. Where we defined <code>digit</code> to be the value of <code>number_as_a_string</code> at index index we need to now wrap that definition in a <code>try</code> block.\n",
    "\n",
    "    Add a <code>try</code> block and, indented in that block, leave your original definition of digit.\n",
    "\n",
    "4. After the try block, we'll want to handle the possibility of an <code>IndexError</code>. What does it mean if we get an index error here?\n",
    "\n",
    "    It means the value for <code>number</code> at index is actually <code>0</code>.\n",
    "\n",
    "    Handle the exception by adding an <code>except IndexError</code> block, in this case assigning digit to be <code>0</code>.\n",
    "\n",
    "5. Excellent! Now let's try uncommenting the line where we sort <code>unordered_list</code>. Print out the results.\n",
    "\n",
    "6. Great job! We created an algorithm that:\n",
    "<ul>\n",
    "    <li>Takes numbers in an input list.</li>\n",
    "    <li>Passes through each digit in those numbers, from least to most significant.</li>\n",
    "    <li>Looks at the values of those digits.</li>\n",
    "    <li>Buckets the input list according to those digits.</li>\n",
    "    <li>Renders the results from that bucketing.</li>\n",
    "    <li>Repeats this process until the list is sorted.</li>\n",
    "</ul>\n",
    "\n",
    "    And that's what a radix sort does! Feel free to play around with the solution code, see if there's anything you can improve about the code or a different way of writing it you want to try.\n"
   ]
  },
  {
   "cell_type": "code",
   "execution_count": 93,
   "metadata": {},
   "outputs": [],
   "source": [
    "def radix_sort(to_be_sorted):\n",
    "    maximum_value = max(to_be_sorted)\n",
    "    max_exponent = len(str(maximum_value))\n",
    "\n",
    "    being_sorted = to_be_sorted[:]\n",
    "    for exponent in range(max_exponent):\n",
    "        position = exponent+1\n",
    "        index = -position \n",
    "        \n",
    "        digits = [[] for i in range(10)]\n",
    "\n",
    "        # create for loop here:\n",
    "        for number in being_sorted:\n",
    "            number_as_a_string = str(number)\n",
    "            try:\n",
    "                digit = number_as_a_string[index]\n",
    "            except IndexError:\n",
    "                digit = 0\n",
    "            digit = int(digit)\n",
    "            \n",
    "            digits[digit].append(number)\n",
    "\n",
    "        being_sorted = []\n",
    "        for numeral in digits:\n",
    "            being_sorted.extend(numeral)\n",
    "        \n",
    "    return being_sorted"
   ]
  },
  {
   "cell_type": "code",
   "execution_count": 94,
   "metadata": {},
   "outputs": [
    {
     "name": "stdout",
     "output_type": "stream",
     "text": [
      "[1, 40, 89, 163, 182, 183, 199, 355, 373, 524, 535, 559, 621, 641, 689, 830, 921, 959, 961]\n"
     ]
    }
   ],
   "source": [
    "unsorted_list = [830, 921, 163, 373, 961, 559, 89, 199, 535, 959, 40, 641, 355, 689, 621, 183, 182, 524, 1]\n",
    "\n",
    "print(radix_sort(unsorted_list))"
   ]
  }
 ],
 "metadata": {
  "kernelspec": {
   "display_name": "Python 3",
   "language": "python",
   "name": "python3"
  },
  "language_info": {
   "codemirror_mode": {
    "name": "ipython",
    "version": 3
   },
   "file_extension": ".py",
   "mimetype": "text/x-python",
   "name": "python",
   "nbconvert_exporter": "python",
   "pygments_lexer": "ipython3",
   "version": "3.6.6"
  }
 },
 "nbformat": 4,
 "nbformat_minor": 2
}
